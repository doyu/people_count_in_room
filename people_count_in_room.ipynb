{
  "nbformat": 4,
  "nbformat_minor": 0,
  "metadata": {
    "colab": {
      "name": "people_count_in_room.ipynb",
      "provenance": [],
      "collapsed_sections": [],
      "toc_visible": true,
      "authorship_tag": "ABX9TyMZ95sNzYx7MK1FcVy9/Glw",
      "include_colab_link": true
    },
    "kernelspec": {
      "name": "python3",
      "display_name": "Python 3"
    },
    "language_info": {
      "name": "python"
    }
  },
  "cells": [
    {
      "cell_type": "markdown",
      "metadata": {
        "id": "view-in-github",
        "colab_type": "text"
      },
      "source": [
        "<a href=\"https://colab.research.google.com/github/doyu/people_count_in_room/blob/main/people_count_in_room.ipynb\" target=\"_parent\"><img src=\"https://colab.research.google.com/assets/colab-badge.svg\" alt=\"Open In Colab\"/></a>"
      ]
    },
    {
      "cell_type": "markdown",
      "source": [
        "# Privacy-preserving occupancy counting\n",
        "\n",
        "FEB 2022"
      ],
      "metadata": {
        "id": "VRcZETQ-qFJe"
      }
    },
    {
      "cell_type": "markdown",
      "source": [
        "# Introduction\n"
      ],
      "metadata": {
        "id": "Cl_UHNsvp6ND"
      }
    },
    {
      "cell_type": "markdown",
      "source": [
        "Previously I have worked on [TinyML as-a-Service](https://ieeexplore.ieee.org/document/9427352) project, *running Machine Learing (ML) inferences on microcontrollers in tiny IoT sensors*, which unlock the power of ML without Cloud computing. I have been looking for a TinyML killer usecase in real life. One of such usecases may be a **privacy-preserving occupancy count device**. Although occupancy counting itself can be done with camera devices, it uploads enomous amount of raw data of recordings on Cloud. Then, those data is proccessed heavily by ML on Cloud GPU. Basically We don't want to expose our privacy data out of our premises. Uploading onto Cloud always has a risk of leaking such data, compared with local processing within sensor devices. Uploading also comes with communication cost, for example, via 5G cellular. My proposal is to enable \"people counting in a room with a IoT sensor\". ML inference on IoT deivce processes primitive raw data (ex: CO2 emission) locally to detect number of people in a room. People emits CO2. The potential customers of this device may be building maintenance companies (i.e. smart building).They could:\n",
        "\n",
        "1.   maximize room usage rate by allocating suitable spaces for group of people\n",
        "2.  reduce energy consumption by controlling lights bulbs and air conditioners for group of people\n",
        "\n",
        "In shared sauna (yes, here's Finland), for example, the current space availability could be checked online before you go naked. In sauna, people are naked and they can talk about thier secrets in relaxed mood. So privacy matters a lot and we don't want any real sensors installed at all. Probably measuring CO2 emission is acceptable in most of the places. This IoT sensor could be also used to check if your eldery parents are still breathing in your home town. This TinyML device may have bluetooth or Wi-fi connection to send only a single 1 byte of data(number of people, 0-256) occassionally, compared with Giga byte of recording data. This pre-processed information (number of people) doesn't include privacy and uploading cost is cheap."
      ],
      "metadata": {
        "id": "k6ZLlkYRpqcl"
      }
    },
    {
      "cell_type": "markdown",
      "source": [
        "The machine learning problem is explained in more detail in the [Problem Formulation](#Problem-Formulation) section.\n",
        "The [Methods](#Methods) section describes the used dataset and regression methods. The different methods are\n",
        "compared in the [Results](#Results) section. The [Conclusions](#Conclusions) section contains discussion on the usefulness of the\n",
        "ML model and some directions for future development."
      ],
      "metadata": {
        "id": "iQqNjjs8u8qX"
      }
    },
    {
      "cell_type": "markdown",
      "source": [
        "# Problem Formulation\n",
        "<!---\n",
        "* Formalise the application an ML problem.  \n",
        "* Clearly explain the data points, features and labels of this ML problem\n",
        "* Explain the source of the dataset\n",
        "--->\n",
        "CO2 sensor in a room measures how much CO2 in a room as time passes. ML would detect number of people in a room with amount of CO2. Here's a [Kaggle dataset](https://www.kaggle.com/ananthr1/room-occupancy-estimation-data-set). This dataset is composed of several sensor data. They are CO2, lights on/off, temperature and sound. The datapoint is considered **a room**. I picked up **amount of CO2 emission** as feature. The rest of sensor data is not used. The label is **number of people** in a room. How to shrink ML model in microcontroller is out of this course scope."
      ],
      "metadata": {
        "id": "wiOso_yRvHCL"
      }
    },
    {
      "cell_type": "markdown",
      "source": [
        "# Method\n"
      ],
      "metadata": {
        "id": "uP9tdPRPMBSA"
      }
    }
  ]
}
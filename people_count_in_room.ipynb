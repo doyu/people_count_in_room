{
 "cells": [
  {
   "cell_type": "code",
   "execution_count": 1,
   "metadata": {
    "scrolled": true
   },
   "outputs": [
    {
     "name": "stdout",
     "output_type": "stream",
     "text": [
      "Requirement already satisfied: pandas-profiling in /opt/conda/lib/python3.8/site-packages (3.1.0)\n",
      "Requirement already satisfied: visions[type_image_path]==0.7.4 in /opt/conda/lib/python3.8/site-packages (from pandas-profiling) (0.7.4)\n",
      "Requirement already satisfied: phik>=0.11.1 in /opt/conda/lib/python3.8/site-packages (from pandas-profiling) (0.12.2)\n",
      "Requirement already satisfied: joblib~=1.0.1 in /opt/conda/lib/python3.8/site-packages (from pandas-profiling) (1.0.1)\n",
      "Requirement already satisfied: htmlmin>=0.1.12 in /opt/conda/lib/python3.8/site-packages (from pandas-profiling) (0.1.12)\n",
      "Requirement already satisfied: scipy>=1.4.1 in /opt/conda/lib/python3.8/site-packages (from pandas-profiling) (1.5.3)\n",
      "Requirement already satisfied: seaborn>=0.10.1 in /opt/conda/lib/python3.8/site-packages (from pandas-profiling) (0.11.1)\n",
      "Requirement already satisfied: multimethod>=1.4 in /opt/conda/lib/python3.8/site-packages (from pandas-profiling) (1.7)\n",
      "Requirement already satisfied: pydantic>=1.8.1 in /opt/conda/lib/python3.8/site-packages (from pandas-profiling) (1.9.0)\n",
      "Requirement already satisfied: missingno>=0.4.2 in /opt/conda/lib/python3.8/site-packages (from pandas-profiling) (0.5.1)\n",
      "Requirement already satisfied: matplotlib>=3.2.0 in /opt/conda/lib/python3.8/site-packages (from pandas-profiling) (3.3.3)\n",
      "Requirement already satisfied: markupsafe~=2.0.1 in /opt/conda/lib/python3.8/site-packages (from pandas-profiling) (2.0.1)\n",
      "Requirement already satisfied: PyYAML>=5.0.0 in /opt/conda/lib/python3.8/site-packages (from pandas-profiling) (5.3.1)\n",
      "Requirement already satisfied: numpy>=1.16.0 in /opt/conda/lib/python3.8/site-packages (from pandas-profiling) (1.19.5)\n",
      "Requirement already satisfied: jinja2>=2.11.1 in /opt/conda/lib/python3.8/site-packages (from pandas-profiling) (2.11.2)\n",
      "Requirement already satisfied: tangled-up-in-unicode==0.1.0 in /opt/conda/lib/python3.8/site-packages (from pandas-profiling) (0.1.0)\n",
      "Requirement already satisfied: requests>=2.24.0 in /opt/conda/lib/python3.8/site-packages (from pandas-profiling) (2.25.1)\n",
      "Requirement already satisfied: tqdm>=4.48.2 in /opt/conda/lib/python3.8/site-packages (from pandas-profiling) (4.55.1)\n",
      "Requirement already satisfied: pandas!=1.0.0,!=1.0.1,!=1.0.2,!=1.1.0,>=0.25.3 in /opt/conda/lib/python3.8/site-packages (from pandas-profiling) (1.1.5)\n",
      "Requirement already satisfied: attrs>=19.3.0 in /opt/conda/lib/python3.8/site-packages (from visions[type_image_path]==0.7.4->pandas-profiling) (20.3.0)\n",
      "Requirement already satisfied: networkx>=2.4 in /opt/conda/lib/python3.8/site-packages (from visions[type_image_path]==0.7.4->pandas-profiling) (2.5)\n",
      "Requirement already satisfied: imagehash in /opt/conda/lib/python3.8/site-packages (from visions[type_image_path]==0.7.4->pandas-profiling) (4.2.1)\n",
      "Requirement already satisfied: Pillow in /opt/conda/lib/python3.8/site-packages (from visions[type_image_path]==0.7.4->pandas-profiling) (8.0.1)\n",
      "Requirement already satisfied: kiwisolver>=1.0.1 in /opt/conda/lib/python3.8/site-packages (from matplotlib>=3.2.0->pandas-profiling) (1.3.1)\n",
      "Requirement already satisfied: cycler>=0.10 in /opt/conda/lib/python3.8/site-packages (from matplotlib>=3.2.0->pandas-profiling) (0.10.0)\n",
      "Requirement already satisfied: pyparsing!=2.0.4,!=2.1.2,!=2.1.6,>=2.0.3 in /opt/conda/lib/python3.8/site-packages (from matplotlib>=3.2.0->pandas-profiling) (2.4.7)\n",
      "Requirement already satisfied: python-dateutil>=2.1 in /opt/conda/lib/python3.8/site-packages (from matplotlib>=3.2.0->pandas-profiling) (2.8.1)\n",
      "Requirement already satisfied: six in /opt/conda/lib/python3.8/site-packages (from cycler>=0.10->matplotlib>=3.2.0->pandas-profiling) (1.15.0)\n",
      "Requirement already satisfied: decorator>=4.3.0 in /opt/conda/lib/python3.8/site-packages (from networkx>=2.4->visions[type_image_path]==0.7.4->pandas-profiling) (4.4.2)\n",
      "Requirement already satisfied: pytz>=2017.2 in /opt/conda/lib/python3.8/site-packages (from pandas!=1.0.0,!=1.0.1,!=1.0.2,!=1.1.0,>=0.25.3->pandas-profiling) (2020.5)\n",
      "Requirement already satisfied: typing-extensions>=3.7.4.3 in /opt/conda/lib/python3.8/site-packages (from pydantic>=1.8.1->pandas-profiling) (3.7.4.3)\n",
      "Requirement already satisfied: chardet<5,>=3.0.2 in /opt/conda/lib/python3.8/site-packages (from requests>=2.24.0->pandas-profiling) (4.0.0)\n",
      "Requirement already satisfied: idna<3,>=2.5 in /opt/conda/lib/python3.8/site-packages (from requests>=2.24.0->pandas-profiling) (2.10)\n",
      "Requirement already satisfied: urllib3<1.27,>=1.21.1 in /opt/conda/lib/python3.8/site-packages (from requests>=2.24.0->pandas-profiling) (1.26.2)\n",
      "Requirement already satisfied: certifi>=2017.4.17 in /opt/conda/lib/python3.8/site-packages (from requests>=2.24.0->pandas-profiling) (2021.5.30)\n",
      "Requirement already satisfied: PyWavelets in /opt/conda/lib/python3.8/site-packages (from imagehash->visions[type_image_path]==0.7.4->pandas-profiling) (1.1.1)\n",
      "Requirement already satisfied: seaborn in /opt/conda/lib/python3.8/site-packages (0.11.1)\n",
      "Requirement already satisfied: scipy>=1.0 in /opt/conda/lib/python3.8/site-packages (from seaborn) (1.5.3)\n",
      "Requirement already satisfied: numpy>=1.15 in /opt/conda/lib/python3.8/site-packages (from seaborn) (1.19.5)\n",
      "Requirement already satisfied: pandas>=0.23 in /opt/conda/lib/python3.8/site-packages (from seaborn) (1.1.5)\n",
      "Requirement already satisfied: matplotlib>=2.2 in /opt/conda/lib/python3.8/site-packages (from seaborn) (3.3.3)\n",
      "Requirement already satisfied: kiwisolver>=1.0.1 in /opt/conda/lib/python3.8/site-packages (from matplotlib>=2.2->seaborn) (1.3.1)\n",
      "Requirement already satisfied: cycler>=0.10 in /opt/conda/lib/python3.8/site-packages (from matplotlib>=2.2->seaborn) (0.10.0)\n",
      "Requirement already satisfied: pyparsing!=2.0.4,!=2.1.2,!=2.1.6,>=2.0.3 in /opt/conda/lib/python3.8/site-packages (from matplotlib>=2.2->seaborn) (2.4.7)\n",
      "Requirement already satisfied: pillow>=6.2.0 in /opt/conda/lib/python3.8/site-packages (from matplotlib>=2.2->seaborn) (8.0.1)\n",
      "Requirement already satisfied: python-dateutil>=2.1 in /opt/conda/lib/python3.8/site-packages (from matplotlib>=2.2->seaborn) (2.8.1)\n",
      "Requirement already satisfied: six in /opt/conda/lib/python3.8/site-packages (from cycler>=0.10->matplotlib>=2.2->seaborn) (1.15.0)\n",
      "Requirement already satisfied: pytz>=2017.2 in /opt/conda/lib/python3.8/site-packages (from pandas>=0.23->seaborn) (2020.5)\n"
     ]
    }
   ],
   "source": [
    "!pip install pandas-profiling\n",
    "!pip install seaborn\n",
    "\n",
    "import numpy as np\n",
    "import pandas as pd\n",
    "from pandas_profiling import ProfileReport\n",
    "\n",
    "import matplotlib.pyplot as plt\n",
    "%matplotlib inline\n",
    "import seaborn as sns\n",
    "\n",
    "from sklearn.model_selection import train_test_split \n",
    "from sklearn.model_selection import StratifiedKFold\n",
    "from sklearn.model_selection import cross_val_score\n",
    "from sklearn.preprocessing import PolynomialFeatures    # function to generate polynomial and interaction features\n",
    "from sklearn.linear_model import LinearRegression\n",
    "from sklearn.metrics import mean_squared_error, accuracy_score    # function to calculate mean squared error "
   ]
  },
  {
   "cell_type": "markdown",
   "metadata": {
    "id": "qzzNw6SYQxvt"
   },
   "source": [
    "# Privacy-preserving occupancy counting with Linear Regression\n",
    "March 2022\n",
    "## Introduction\n",
    "Previously I have worked on [TinyML as-a-Service](https://ieeexplore.ieee.org/document/9427352) project, *running Machine Learing (ML) inferences on microcontrollers in tiny IoT sensors*, which unlock the power of ML without Cloud computing. I have been looking for a TinyML killer usecase in real life. One of such usecases may be a **privacy-preserving occupancy count device**. Although occupancy counting itself can be done with camera devices, it uploads enomous amount of raw data of recordings on Cloud. Then, those data is proccessed heavily by ML on Cloud GPU. Basically We don't want to expose our privacy data out of our premises. Uploading onto Cloud always has a risk of leaking such data, compared with local processing within sensor devices. Uploading also comes with communication cost, for example, via 5G cellular. My proposal is to enable \"people counting in a room with a IoT sensor\". ML inference on IoT deivce processes primitive raw data (ex: CO2 emission) locally to detect number of people in a room. People emits CO2. The potential customers of this device may be building maintenance companies (i.e. smart building).They could:\n",
    "\n",
    "1.   maximize room usage rate by allocating suitable spaces for group of people\n",
    "2.  reduce energy consumption by controlling lights bulbs and air conditioners for group of people\n",
    "\n",
    "In shared sauna (yes, here's Finland), for example, the current space availability could be checked online before you go naked. In sauna, people are naked and they can talk about thier secrets in relaxed mood. So privacy matters a lot and we don't want any real sensors installed at all. Probably measuring CO2 emission is acceptable in most of the places. This IoT sensor could be also used to check if your eldery parents are still breathing in your home town. This TinyML device may have bluetooth or Wi-fi connection to send only a single 1 byte of data(number of people, 0-256) occassionally, compared with Giga byte of recording data. This pre-processed information (number of people) doesn't include privacy and uploading cost is cheap.\n",
    "## Problem Formulation\n",
    "<!---\n",
    "* Formalise the application an ML problem.  \n",
    "* Clearly explain the data points, features and labels of this ML problem\n",
    "* Explain the source of the dataset\n",
    "--->\n",
    "CO2 sensor in a room measures how much CO2 in a room as time passes. ML would detect number of people in a room with amount of CO2. Here's a [Kaggle dataset](https://www.kaggle.com/ananthr1/room-occupancy-estimation-data-set). This dataset is composed of several sensor data. They are CO2, lights on/off, temperature, motion detector and sound. The datapoint is considered **state of a room** at certain time. I picked up **amount of CO2 emission** as a main feature. The rest of sensor data could be used too to complement if CO2 is not enough. The label is **number of people** in a room. The fewer sensors used, the better for TinyML because of the limited computational resources on microcontrollers. We will evaluate the different number of feature set. How to shrink ML model in microcontroller is out of this course scope.\n",
    "\n",
    "## Method\n",
    "We will discuss Datapoints, Feature selection, Model, Loss function and Validation below.\n",
    "\n",
    "### Datapoints\n",
    "<!---State the number of datapoints, briefly describe the dataset and/or any data preprocessing needed--->\n",
    "The size of a room is 6m x 4.6m. The number of datapoints is 10,129 without any missing values. 7 sensor nodes transmit almost every 30s via wireless transceivers. Each attribute of sensors:\n",
    "- Date: YYYY/MM/DD\n",
    "- Time: HH:MM:SS\n",
    "- Temperature: In degree Celsius (S1_Temp, S2_Temp, S3_Temp)\n",
    "- Light: In Lux (S1_Light, S2_Light, S3_Light, S4_Light)\n",
    "- Sound: In Volts (amplifier output read by ADC) (S1_Sound, S2_Sound, S3_Sound, S4_Sound)\n",
    "- CO2: In PPM (S5_CO2)\n",
    "- CO2 Slope: Slope of CO2 values taken in a sliding window (S5_CO2_Slope)\n",
    "- PIR: Binary value conveying motion detection (S6_PIR, S7_PIR)\n",
    "- RoomOccupancyCount: Ground Truth (Room_Occupancy_Count)"
   ]
  },
  {
   "cell_type": "code",
   "execution_count": 19,
   "metadata": {
    "colab": {
     "base_uri": "https://localhost:8080/",
     "height": 270
    },
    "id": "osBsZFOzXR9t",
    "outputId": "5e1b0f34-4020-4651-83bb-209f718750e8"
   },
   "outputs": [],
   "source": [
    "df = pd.read_csv('https://raw.githubusercontent.com/doyu/people_count_in_room/main/Occupancy_Estimation.csv')"
   ]
  },
  {
   "cell_type": "code",
   "execution_count": 20,
   "metadata": {},
   "outputs": [
    {
     "data": {
      "text/html": [
       "<div>\n",
       "<style scoped>\n",
       "    .dataframe tbody tr th:only-of-type {\n",
       "        vertical-align: middle;\n",
       "    }\n",
       "\n",
       "    .dataframe tbody tr th {\n",
       "        vertical-align: top;\n",
       "    }\n",
       "\n",
       "    .dataframe thead th {\n",
       "        text-align: right;\n",
       "    }\n",
       "</style>\n",
       "<table border=\"1\" class=\"dataframe\">\n",
       "  <thead>\n",
       "    <tr style=\"text-align: right;\">\n",
       "      <th></th>\n",
       "      <th>Date</th>\n",
       "      <th>Time</th>\n",
       "      <th>S1_Temp</th>\n",
       "      <th>S2_Temp</th>\n",
       "      <th>S3_Temp</th>\n",
       "      <th>S4_Temp</th>\n",
       "      <th>S1_Light</th>\n",
       "      <th>S2_Light</th>\n",
       "      <th>S3_Light</th>\n",
       "      <th>S4_Light</th>\n",
       "    </tr>\n",
       "  </thead>\n",
       "  <tbody>\n",
       "    <tr>\n",
       "      <th>0</th>\n",
       "      <td>2017/12/22</td>\n",
       "      <td>10:49:41</td>\n",
       "      <td>24.94</td>\n",
       "      <td>24.75</td>\n",
       "      <td>24.56</td>\n",
       "      <td>25.38</td>\n",
       "      <td>121</td>\n",
       "      <td>34</td>\n",
       "      <td>53</td>\n",
       "      <td>40</td>\n",
       "    </tr>\n",
       "    <tr>\n",
       "      <th>1</th>\n",
       "      <td>2017/12/22</td>\n",
       "      <td>10:50:12</td>\n",
       "      <td>24.94</td>\n",
       "      <td>24.75</td>\n",
       "      <td>24.56</td>\n",
       "      <td>25.44</td>\n",
       "      <td>121</td>\n",
       "      <td>33</td>\n",
       "      <td>53</td>\n",
       "      <td>40</td>\n",
       "    </tr>\n",
       "    <tr>\n",
       "      <th>2</th>\n",
       "      <td>2017/12/22</td>\n",
       "      <td>10:50:42</td>\n",
       "      <td>25.00</td>\n",
       "      <td>24.75</td>\n",
       "      <td>24.50</td>\n",
       "      <td>25.44</td>\n",
       "      <td>121</td>\n",
       "      <td>34</td>\n",
       "      <td>53</td>\n",
       "      <td>40</td>\n",
       "    </tr>\n",
       "    <tr>\n",
       "      <th>3</th>\n",
       "      <td>2017/12/22</td>\n",
       "      <td>10:51:13</td>\n",
       "      <td>25.00</td>\n",
       "      <td>24.75</td>\n",
       "      <td>24.56</td>\n",
       "      <td>25.44</td>\n",
       "      <td>121</td>\n",
       "      <td>34</td>\n",
       "      <td>53</td>\n",
       "      <td>40</td>\n",
       "    </tr>\n",
       "    <tr>\n",
       "      <th>4</th>\n",
       "      <td>2017/12/22</td>\n",
       "      <td>10:51:44</td>\n",
       "      <td>25.00</td>\n",
       "      <td>24.75</td>\n",
       "      <td>24.56</td>\n",
       "      <td>25.44</td>\n",
       "      <td>121</td>\n",
       "      <td>34</td>\n",
       "      <td>54</td>\n",
       "      <td>40</td>\n",
       "    </tr>\n",
       "  </tbody>\n",
       "</table>\n",
       "</div>"
      ],
      "text/plain": [
       "         Date      Time  S1_Temp  S2_Temp  S3_Temp  S4_Temp  S1_Light  \\\n",
       "0  2017/12/22  10:49:41    24.94    24.75    24.56    25.38       121   \n",
       "1  2017/12/22  10:50:12    24.94    24.75    24.56    25.44       121   \n",
       "2  2017/12/22  10:50:42    25.00    24.75    24.50    25.44       121   \n",
       "3  2017/12/22  10:51:13    25.00    24.75    24.56    25.44       121   \n",
       "4  2017/12/22  10:51:44    25.00    24.75    24.56    25.44       121   \n",
       "\n",
       "   S2_Light  S3_Light  S4_Light  \n",
       "0        34        53        40  \n",
       "1        33        53        40  \n",
       "2        34        53        40  \n",
       "3        34        53        40  \n",
       "4        34        54        40  "
      ]
     },
     "execution_count": 20,
     "metadata": {},
     "output_type": "execute_result"
    }
   ],
   "source": [
    "df.iloc[:,:10].head()"
   ]
  },
  {
   "cell_type": "code",
   "execution_count": 24,
   "metadata": {},
   "outputs": [
    {
     "data": {
      "text/html": [
       "<div>\n",
       "<style scoped>\n",
       "    .dataframe tbody tr th:only-of-type {\n",
       "        vertical-align: middle;\n",
       "    }\n",
       "\n",
       "    .dataframe tbody tr th {\n",
       "        vertical-align: top;\n",
       "    }\n",
       "\n",
       "    .dataframe thead th {\n",
       "        text-align: right;\n",
       "    }\n",
       "</style>\n",
       "<table border=\"1\" class=\"dataframe\">\n",
       "  <thead>\n",
       "    <tr style=\"text-align: right;\">\n",
       "      <th></th>\n",
       "      <th>S1_Sound</th>\n",
       "      <th>S2_Sound</th>\n",
       "      <th>S3_Sound</th>\n",
       "      <th>S4_Sound</th>\n",
       "      <th>S5_CO2</th>\n",
       "      <th>S5_CO2_Slope</th>\n",
       "      <th>S6_PIR</th>\n",
       "      <th>S7_PIR</th>\n",
       "      <th>Target</th>\n",
       "    </tr>\n",
       "  </thead>\n",
       "  <tbody>\n",
       "    <tr>\n",
       "      <th>0</th>\n",
       "      <td>0.08</td>\n",
       "      <td>0.19</td>\n",
       "      <td>0.06</td>\n",
       "      <td>0.06</td>\n",
       "      <td>390</td>\n",
       "      <td>0.769231</td>\n",
       "      <td>0</td>\n",
       "      <td>0</td>\n",
       "      <td>1</td>\n",
       "    </tr>\n",
       "    <tr>\n",
       "      <th>1</th>\n",
       "      <td>0.93</td>\n",
       "      <td>0.05</td>\n",
       "      <td>0.06</td>\n",
       "      <td>0.06</td>\n",
       "      <td>390</td>\n",
       "      <td>0.646154</td>\n",
       "      <td>0</td>\n",
       "      <td>0</td>\n",
       "      <td>1</td>\n",
       "    </tr>\n",
       "    <tr>\n",
       "      <th>2</th>\n",
       "      <td>0.43</td>\n",
       "      <td>0.11</td>\n",
       "      <td>0.08</td>\n",
       "      <td>0.06</td>\n",
       "      <td>390</td>\n",
       "      <td>0.519231</td>\n",
       "      <td>0</td>\n",
       "      <td>0</td>\n",
       "      <td>1</td>\n",
       "    </tr>\n",
       "    <tr>\n",
       "      <th>3</th>\n",
       "      <td>0.41</td>\n",
       "      <td>0.10</td>\n",
       "      <td>0.10</td>\n",
       "      <td>0.09</td>\n",
       "      <td>390</td>\n",
       "      <td>0.388462</td>\n",
       "      <td>0</td>\n",
       "      <td>0</td>\n",
       "      <td>1</td>\n",
       "    </tr>\n",
       "    <tr>\n",
       "      <th>4</th>\n",
       "      <td>0.18</td>\n",
       "      <td>0.06</td>\n",
       "      <td>0.06</td>\n",
       "      <td>0.06</td>\n",
       "      <td>390</td>\n",
       "      <td>0.253846</td>\n",
       "      <td>0</td>\n",
       "      <td>0</td>\n",
       "      <td>1</td>\n",
       "    </tr>\n",
       "  </tbody>\n",
       "</table>\n",
       "</div>"
      ],
      "text/plain": [
       "   S1_Sound  S2_Sound  S3_Sound  S4_Sound  S5_CO2  S5_CO2_Slope  S6_PIR  \\\n",
       "0      0.08      0.19      0.06      0.06     390      0.769231       0   \n",
       "1      0.93      0.05      0.06      0.06     390      0.646154       0   \n",
       "2      0.43      0.11      0.08      0.06     390      0.519231       0   \n",
       "3      0.41      0.10      0.10      0.09     390      0.388462       0   \n",
       "4      0.18      0.06      0.06      0.06     390      0.253846       0   \n",
       "\n",
       "   S7_PIR  Target  \n",
       "0       0       1  \n",
       "1       0       1  \n",
       "2       0       1  \n",
       "3       0       1  \n",
       "4       0       1  "
      ]
     },
     "execution_count": 24,
     "metadata": {},
     "output_type": "execute_result"
    }
   ],
   "source": [
    "df.rename(columns={'Room_Occupancy_Count':'Target'}).iloc[:,10:].head()\n",
    "#df.iloc[:,10:].head()"
   ]
  },
  {
   "cell_type": "code",
   "execution_count": 5,
   "metadata": {
    "colab": {
     "base_uri": "https://localhost:8080/"
    },
    "id": "PuJC5RVVqRW0",
    "outputId": "5ba93e56-e42e-48d3-d1b3-4fd4ffee9bfa"
   },
   "outputs": [],
   "source": [
    "#df.info()"
   ]
  },
  {
   "cell_type": "code",
   "execution_count": 6,
   "metadata": {
    "colab": {
     "base_uri": "https://localhost:8080/",
     "height": 1000
    },
    "id": "NkVz3EeDqYA6",
    "outputId": "c8ff0540-c8c3-41e5-d17d-2a355c189ae1"
   },
   "outputs": [],
   "source": [
    "#profile = ProfileReport(df)\n",
    "#profile\n",
    "#profile.to_file(\"Analysis.html\")"
   ]
  },
  {
   "cell_type": "markdown",
   "metadata": {
    "id": "6iMTcMi9Qx_4"
   },
   "source": [
    "### Feature selection\n",
    "As seen below, all of 3 temperature sensors are correlated so that only _S1_Temp_, which is most correlated to _target_, was chosen.  All of 3 light sensors are correlated so that only _S1_Light_, which is most correlated to _target_, was chosen. All of sound sensors are dropped here because of privacy reason. We started with S1_Temp, S1_Light, S5_CO2, S5_CO2_Slope, S6_PIR, and S7_PIR."
   ]
  },
  {
   "cell_type": "code",
   "execution_count": 7,
   "metadata": {},
   "outputs": [],
   "source": [
    "#df.corr()"
   ]
  },
  {
   "cell_type": "code",
   "execution_count": 8,
   "metadata": {},
   "outputs": [
    {
     "data": {
      "text/plain": [
       "<AxesSubplot:>"
      ]
     },
     "execution_count": 8,
     "metadata": {},
     "output_type": "execute_result"
    },
    {
     "data": {
      "image/png": "[encoded data removed]",
      "text/plain": [
       "<Figure size 432x288 with 2 Axes>"
      ]
     },
     "metadata": {
      "needs_background": "light"
     },
     "output_type": "display_data"
    }
   ],
   "source": [
    "sns.heatmap(df.rename(columns={'Room_Occupancy_Count':'target'}).corr())"
   ]
  },
  {
   "cell_type": "code",
   "execution_count": 9,
   "metadata": {},
   "outputs": [
    {
     "data": {
      "text/html": [
       "<div>\n",
       "<style scoped>\n",
       "    .dataframe tbody tr th:only-of-type {\n",
       "        vertical-align: middle;\n",
       "    }\n",
       "\n",
       "    .dataframe tbody tr th {\n",
       "        vertical-align: top;\n",
       "    }\n",
       "\n",
       "    .dataframe thead th {\n",
       "        text-align: right;\n",
       "    }\n",
       "</style>\n",
       "<table border=\"1\" class=\"dataframe\">\n",
       "  <thead>\n",
       "    <tr style=\"text-align: right;\">\n",
       "      <th></th>\n",
       "      <th>S1_Temp</th>\n",
       "      <th>S1_Light</th>\n",
       "      <th>S5_CO2</th>\n",
       "      <th>S5_CO2_Slope</th>\n",
       "      <th>S6_PIR</th>\n",
       "      <th>S7_PIR</th>\n",
       "      <th>Room_Occupancy_Count</th>\n",
       "    </tr>\n",
       "  </thead>\n",
       "  <tbody>\n",
       "    <tr>\n",
       "      <th>0</th>\n",
       "      <td>24.94</td>\n",
       "      <td>121</td>\n",
       "      <td>390</td>\n",
       "      <td>0.769231</td>\n",
       "      <td>0</td>\n",
       "      <td>0</td>\n",
       "      <td>1</td>\n",
       "    </tr>\n",
       "    <tr>\n",
       "      <th>1</th>\n",
       "      <td>24.94</td>\n",
       "      <td>121</td>\n",
       "      <td>390</td>\n",
       "      <td>0.646154</td>\n",
       "      <td>0</td>\n",
       "      <td>0</td>\n",
       "      <td>1</td>\n",
       "    </tr>\n",
       "    <tr>\n",
       "      <th>2</th>\n",
       "      <td>25.00</td>\n",
       "      <td>121</td>\n",
       "      <td>390</td>\n",
       "      <td>0.519231</td>\n",
       "      <td>0</td>\n",
       "      <td>0</td>\n",
       "      <td>1</td>\n",
       "    </tr>\n",
       "    <tr>\n",
       "      <th>3</th>\n",
       "      <td>25.00</td>\n",
       "      <td>121</td>\n",
       "      <td>390</td>\n",
       "      <td>0.388462</td>\n",
       "      <td>0</td>\n",
       "      <td>0</td>\n",
       "      <td>1</td>\n",
       "    </tr>\n",
       "    <tr>\n",
       "      <th>4</th>\n",
       "      <td>25.00</td>\n",
       "      <td>121</td>\n",
       "      <td>390</td>\n",
       "      <td>0.253846</td>\n",
       "      <td>0</td>\n",
       "      <td>0</td>\n",
       "      <td>1</td>\n",
       "    </tr>\n",
       "  </tbody>\n",
       "</table>\n",
       "</div>"
      ],
      "text/plain": [
       "   S1_Temp  S1_Light  S5_CO2  S5_CO2_Slope  S6_PIR  S7_PIR  \\\n",
       "0    24.94       121     390      0.769231       0       0   \n",
       "1    24.94       121     390      0.646154       0       0   \n",
       "2    25.00       121     390      0.519231       0       0   \n",
       "3    25.00       121     390      0.388462       0       0   \n",
       "4    25.00       121     390      0.253846       0       0   \n",
       "\n",
       "   Room_Occupancy_Count  \n",
       "0                     1  \n",
       "1                     1  \n",
       "2                     1  \n",
       "3                     1  \n",
       "4                     1  "
      ]
     },
     "execution_count": 9,
     "metadata": {},
     "output_type": "execute_result"
    }
   ],
   "source": [
    "#df.columns\n",
    "df = df[['S1_Temp', 'S1_Light', 'S5_CO2', 'S5_CO2_Slope', 'S6_PIR', 'S7_PIR', 'Room_Occupancy_Count']]\n",
    "df.head()"
   ]
  },
  {
   "cell_type": "markdown",
   "metadata": {},
   "source": [
    "We split feature set into 6 groups X6, X5, X4, X3, X2 and X1. The number shows how many features are included in those X feature set. Each group includes:"
   ]
  },
  {
   "cell_type": "code",
   "execution_count": 10,
   "metadata": {},
   "outputs": [
    {
     "name": "stdout",
     "output_type": "stream",
     "text": [
      "X6: S1_Temp, S1_Light, S5_CO2, S5_CO2_Slope, S6_PIR, S7_PIR\n",
      "X5: S1_Temp, S5_CO2, S5_CO2_Slope, S6_PIR, S7_PIR\n",
      "X4: S1_Temp, S5_CO2, S5_CO2_Slope, S6_PIR\n",
      "X3: S5_CO2, S5_CO2_Slope, S6_PIR\n",
      "X2: S5_CO2, S5_CO2_Slope\n",
      "X1: S5_CO2\n"
     ]
    }
   ],
   "source": [
    "X6 = df[['S1_Temp', 'S1_Light', 'S5_CO2', 'S5_CO2_Slope', 'S6_PIR', 'S7_PIR']]\n",
    "X5 = df[['S1_Temp', 'S5_CO2', 'S5_CO2_Slope', 'S6_PIR', 'S7_PIR']]\n",
    "X4 = df[['S1_Temp', 'S5_CO2', 'S5_CO2_Slope', 'S6_PIR']]\n",
    "X3 = df[['S5_CO2', 'S5_CO2_Slope', 'S6_PIR']]\n",
    "X2 = df[['S5_CO2', 'S5_CO2_Slope']]\n",
    "X1 = df[['S5_CO2']]\n",
    "\n",
    "for i, x in enumerate([X6, X5, X4, X3, X2, X1]):\n",
    "    features = \", \".join(x.columns)\n",
    "    print(f\"X{6-i}: {features}\")"
   ]
  },
  {
   "cell_type": "markdown",
   "metadata": {
    "id": "vdNlg2J6Qyaw"
   },
   "source": [
    "### Model\n",
    "<!---Describe and explain (why?) your choice of ML model(s)/hypothesis space(s)*,\n",
    "e.g., linear predictors, etc-->\n",
    "We applied linear regression to detect the number of people in a room from various sensor data. It is because the above correlation map showed apparent correlation between features and target. Also linear regression is relatively lighter computation than other method like deep neural network. This is good for TinyML. We run linear regression over different polynomial degree from 1 to 6 against different feature set, X1 to X6. Then, we picked up the best polynomial degree for each feature set and compared their accuracy. 30 patterns of 6 dataset groups with 5 polynomial dgrees are investigated here."
   ]
  },
  {
   "cell_type": "code",
   "execution_count": 11,
   "metadata": {},
   "outputs": [],
   "source": [
    "#%%timeit\n",
    "def poly_scores(degrees, X, y):\n",
    "    X_train, X_test, y_train, y_test = train_test_split(X, y, test_size=0.3, random_state=42)\n",
    "    scores = []\n",
    "    for i in degrees:\n",
    "        model = LinearRegression(fit_intercept=False)\n",
    "        poly = PolynomialFeatures(degree=i)\n",
    "        skf = StratifiedKFold()\n",
    "        x = cross_val_score(model, poly.fit_transform(X_train), y_train, cv=skf)\n",
    "        #print(i, x)\n",
    "        scores.append(np.mean(x))\n",
    "\n",
    "    return scores\n",
    "\n",
    "def test_accuracy(degree, X, y):\n",
    "    X_train, X_test, y_train, y_test = train_test_split(X, y, test_size=0.3, random_state=42)\n",
    "    poly = PolynomialFeatures(degree=degree)\n",
    "    X_train_poly = poly.fit_transform(X_train)\n",
    "    model = LinearRegression(fit_intercept=False).fit(X_train_poly, y_train)\n",
    "    y = model.predict(poly.fit_transform(X_test))\n",
    "    y = list(map(round, y))\n",
    "    return sum(y==y_test) / len(y)"
   ]
  },
  {
   "cell_type": "code",
   "execution_count": 12,
   "metadata": {},
   "outputs": [],
   "source": [
    "# 'S1_Temp', 'S1_Light', 'S5_CO2', 'S5_CO2_Slope', 'S6_PIR', 'S7_PIR'\n",
    "y = df['Room_Occupancy_Count']\n",
    "\n",
    "degrees = range(1,6)\n",
    "scores = {'poly degree':degrees}\n",
    "accs = []\n",
    "\n",
    "for i, X in enumerate([X6, X5, X4, X3, X2, X1]):\n",
    "    tmp = poly_scores(degrees, X, y)\n",
    "    scores[f\"X{6-i}\"] = tmp\n",
    "    idx = np.argmax(tmp)\n",
    "    #print(idx, degrees[idx])\n",
    "    acc = test_accuracy(degrees[idx], X, y)\n",
    "    accs.append(acc)"
   ]
  },
  {
   "cell_type": "code",
   "execution_count": 13,
   "metadata": {},
   "outputs": [
    {
     "data": {
      "text/html": [
       "<div>\n",
       "<style scoped>\n",
       "    .dataframe tbody tr th:only-of-type {\n",
       "        vertical-align: middle;\n",
       "    }\n",
       "\n",
       "    .dataframe tbody tr th {\n",
       "        vertical-align: top;\n",
       "    }\n",
       "\n",
       "    .dataframe thead th {\n",
       "        text-align: right;\n",
       "    }\n",
       "</style>\n",
       "<table border=\"1\" class=\"dataframe\">\n",
       "  <thead>\n",
       "    <tr style=\"text-align: right;\">\n",
       "      <th></th>\n",
       "      <th>X6</th>\n",
       "      <th>X5</th>\n",
       "      <th>X4</th>\n",
       "      <th>X3</th>\n",
       "      <th>X2</th>\n",
       "      <th>X1</th>\n",
       "    </tr>\n",
       "    <tr>\n",
       "      <th>poly degree</th>\n",
       "      <th></th>\n",
       "      <th></th>\n",
       "      <th></th>\n",
       "      <th></th>\n",
       "      <th></th>\n",
       "      <th></th>\n",
       "    </tr>\n",
       "  </thead>\n",
       "  <tbody>\n",
       "    <tr>\n",
       "      <th>1</th>\n",
       "      <td>0.870882</td>\n",
       "      <td>0.834788</td>\n",
       "      <td>0.817154</td>\n",
       "      <td>0.796813</td>\n",
       "      <td>0.751911</td>\n",
       "      <td>0.445135</td>\n",
       "    </tr>\n",
       "    <tr>\n",
       "      <th>2</th>\n",
       "      <td>0.936174</td>\n",
       "      <td>0.865012</td>\n",
       "      <td>0.837572</td>\n",
       "      <td>0.820712</td>\n",
       "      <td>0.767796</td>\n",
       "      <td>0.452824</td>\n",
       "    </tr>\n",
       "    <tr>\n",
       "      <th>3</th>\n",
       "      <td>0.955366</td>\n",
       "      <td>0.899802</td>\n",
       "      <td>0.875181</td>\n",
       "      <td>0.839125</td>\n",
       "      <td>0.799765</td>\n",
       "      <td>0.461071</td>\n",
       "    </tr>\n",
       "    <tr>\n",
       "      <th>4</th>\n",
       "      <td>0.949246</td>\n",
       "      <td>0.886663</td>\n",
       "      <td>0.882610</td>\n",
       "      <td>0.841926</td>\n",
       "      <td>0.813125</td>\n",
       "      <td>0.461860</td>\n",
       "    </tr>\n",
       "    <tr>\n",
       "      <th>5</th>\n",
       "      <td>0.790045</td>\n",
       "      <td>0.642105</td>\n",
       "      <td>0.761449</td>\n",
       "      <td>0.502662</td>\n",
       "      <td>0.807503</td>\n",
       "      <td>0.459508</td>\n",
       "    </tr>\n",
       "  </tbody>\n",
       "</table>\n",
       "</div>"
      ],
      "text/plain": [
       "                   X6        X5        X4        X3        X2        X1\n",
       "poly degree                                                            \n",
       "1            0.870882  0.834788  0.817154  0.796813  0.751911  0.445135\n",
       "2            0.936174  0.865012  0.837572  0.820712  0.767796  0.452824\n",
       "3            0.955366  0.899802  0.875181  0.839125  0.799765  0.461071\n",
       "4            0.949246  0.886663  0.882610  0.841926  0.813125  0.461860\n",
       "5            0.790045  0.642105  0.761449  0.502662  0.807503  0.459508"
      ]
     },
     "execution_count": 13,
     "metadata": {},
     "output_type": "execute_result"
    }
   ],
   "source": [
    "d = pd.DataFrame({k: pd.Series(v) for k, v in scores.items()})\n",
    "d = d.set_index('poly degree')\n",
    "d\n",
    "#d.style.applymap(lambda x: \"background-color: yellow\" if x==np.max(d['score']) else \"background-color: white\")"
   ]
  },
  {
   "cell_type": "code",
   "execution_count": 14,
   "metadata": {},
   "outputs": [
    {
     "data": {
      "text/plain": [
       "<AxesSubplot:xlabel='poly degree', ylabel='coefficient of determination'>"
      ]
     },
     "execution_count": 14,
     "metadata": {},
     "output_type": "execute_result"
    },
    {
     "data": {
      "image/png": "[encoded data removed]",
      "text/plain": [
       "<Figure size 576x144 with 1 Axes>"
      ]
     },
     "metadata": {
      "needs_background": "light"
     },
     "output_type": "display_data"
    }
   ],
   "source": [
    "d.plot(xlabel='poly degree', ylabel='coefficient of determination', figsize=(8,2))"
   ]
  },
  {
   "cell_type": "markdown",
   "metadata": {
    "id": "Ek1BbjgSQymE"
   },
   "source": [
    "### Loss function\n",
    "<!---Describe and explain (why?) your choice of loss function(s)*, e.g., logistic loss--->\n",
    "Mean squared error (MSE) was used to evaluate estimation error because it's most straightforward for this simple model with many combinations of features and polynomial degrees."
   ]
  },
  {
   "cell_type": "markdown",
   "metadata": {
    "id": "7QgvDap_QywP"
   },
   "source": [
    "### Validation\n",
    "<!---Explain the process of model validation\n",
    "- how did you split the data into training, validation and test sets. \n",
    "- What are the sizes of each set and why did you make such design choice\n",
    "--->\n",
    "At first, 30% of data is reserved for final evaluation, **testing**. Then, we split the rest of data into **training** and **validation** to find out hyperparameters(e.g. polynonial degrees). As seen below, taret value is not equally scattered. So we used [Stratifield KFold cross validation](https://scikit-learn.org/stable/modules/generated/sklearn.model_selection.StratifiedKFold.html) to keep the same ratio of labels in each validation. The split group number is 5."
   ]
  },
  {
   "cell_type": "code",
   "execution_count": 15,
   "metadata": {},
   "outputs": [
    {
     "data": {
      "text/plain": [
       "<AxesSubplot:>"
      ]
     },
     "execution_count": 15,
     "metadata": {},
     "output_type": "execute_result"
    },
    {
     "data": {
      "image/png": "[encoded data removed]",
      "text/plain": [
       "<Figure size 720x144 with 1 Axes>"
      ]
     },
     "metadata": {
      "needs_background": "light"
     },
     "output_type": "display_data"
    }
   ],
   "source": [
    "target = 'Room_Occupancy_Count'\n",
    "#df[target].hist(figsize=(10,5))\n",
    "df[target].hist(figsize=(10,2))"
   ]
  },
  {
   "cell_type": "markdown",
   "metadata": {},
   "source": [
    "Here is a final accuracy comparison between X1 to X6 feeature set."
   ]
  },
  {
   "cell_type": "markdown",
   "metadata": {},
   "source": [
    "## Result\n",
    "As seen below, if we use only X1:CO2, the prediction accuracy dropped drastically. Using 2 features, X2: CO2 and CO2_Slope with polynomial degree 4 may be reasonable choice. Using 2 features doesn't require a lot of initial investment of installing sensors in the field and also computation with polynomial degree 4 is smaller on TinyML sensor device. This basically depends on the requirements, how much accuracy is needed, how small TinyML device is and so on. In the future, more powerful TinyML device will be shipped, where we could investigate more complicated model on such devices."
   ]
  },
  {
   "cell_type": "code",
   "execution_count": 16,
   "metadata": {},
   "outputs": [
    {
     "data": {
      "text/html": [
       "<div>\n",
       "<style scoped>\n",
       "    .dataframe tbody tr th:only-of-type {\n",
       "        vertical-align: middle;\n",
       "    }\n",
       "\n",
       "    .dataframe tbody tr th {\n",
       "        vertical-align: top;\n",
       "    }\n",
       "\n",
       "    .dataframe thead th {\n",
       "        text-align: right;\n",
       "    }\n",
       "</style>\n",
       "<table border=\"1\" class=\"dataframe\">\n",
       "  <thead>\n",
       "    <tr style=\"text-align: right;\">\n",
       "      <th></th>\n",
       "      <th>X6</th>\n",
       "      <th>X5</th>\n",
       "      <th>X4</th>\n",
       "      <th>X3</th>\n",
       "      <th>X2</th>\n",
       "      <th>X1</th>\n",
       "    </tr>\n",
       "  </thead>\n",
       "  <tbody>\n",
       "    <tr>\n",
       "      <th>accuracy</th>\n",
       "      <td>0.977624</td>\n",
       "      <td>0.925962</td>\n",
       "      <td>0.92333</td>\n",
       "      <td>0.9026</td>\n",
       "      <td>0.890424</td>\n",
       "      <td>0.737743</td>\n",
       "    </tr>\n",
       "  </tbody>\n",
       "</table>\n",
       "</div>"
      ],
      "text/plain": [
       "                X6        X5       X4      X3        X2        X1\n",
       "accuracy  0.977624  0.925962  0.92333  0.9026  0.890424  0.737743"
      ]
     },
     "execution_count": 16,
     "metadata": {},
     "output_type": "execute_result"
    }
   ],
   "source": [
    "d = {k: v for k, v in zip(['X6','X5','X4','X3','X2','X1'], accs)} \n",
    "d = pd.DataFrame({k: v for k, v in d.items()}, index=['accuracy'])\n",
    "d"
   ]
  },
  {
   "cell_type": "code",
   "execution_count": 17,
   "metadata": {},
   "outputs": [
    {
     "data": {
      "text/plain": [
       "<AxesSubplot:>"
      ]
     },
     "execution_count": 17,
     "metadata": {},
     "output_type": "execute_result"
    },
    {
     "data": {
      "image/png": "[encoded data removed]",
      "text/plain": [
       "<Figure size 576x144 with 1 Axes>"
      ]
     },
     "metadata": {
      "needs_background": "light"
     },
     "output_type": "display_data"
    }
   ],
   "source": [
    "d.T.plot(figsize=(8,2), grid=True)"
   ]
  },
  {
   "cell_type": "markdown",
   "metadata": {},
   "source": [
    "## Conclusion\n",
    "We have examined how accurate to predict the number of people in a room with variety of sensor data combination, with the help of Machine Learning, more specifically, with polynomial regression. Only with CO2 emission and CO2 moving average, counting the number of people in a room achieved around 90% of accuracy. Altbhough this seems be useful, this really depends on the size of a room in use or number of sensors install in the place. This could be some reference to plan this occupancy counting in the real field. The further experiment in the real environment would be necessary. For example, with different number of sensors, with different location of sensor installation, with different TinyML sensor devices. "
   ]
  },
  {
   "cell_type": "markdown",
   "metadata": {
    "id": "d9QWaTImUgNG"
   },
   "source": [
    "## References\n",
    "- dataset, https://www.kaggle.com/ananthr1/room-occupancy-estimation-data-set\n",
    "- notebook, https://github.com/doyu/people_count_in_room/blob/main/people_count_in_room.ipynb"
   ]
  }
 ],
 "metadata": {
  "colab": {
   "collapsed_sections": [],
   "name": "people_count_in_room.ipynb",
   "provenance": []
  },
  "hide_input": false,
  "kernelspec": {
   "display_name": "Python 3",
   "language": "python",
   "name": "python3"
  },
  "language_info": {
   "codemirror_mode": {
    "name": "ipython",
    "version": 3
   },
   "file_extension": ".py",
   "mimetype": "text/x-python",
   "name": "python",
   "nbconvert_exporter": "python",
   "pygments_lexer": "ipython3",
   "version": "3.8.6"
  },
  "varInspector": {
   "cols": {
    "lenName": 16,
    "lenType": 16,
    "lenVar": 40
   },
   "kernels_config": {
    "python": {
     "delete_cmd_postfix": "",
     "delete_cmd_prefix": "del ",
     "library": "var_list.py",
     "varRefreshCmd": "print(var_dic_list())"
    },
    "r": {
     "delete_cmd_postfix": ") ",
     "delete_cmd_prefix": "rm(",
     "library": "var_list.r",
     "varRefreshCmd": "cat(var_dic_list()) "
    }
   },
   "types_to_exclude": [
    "module",
    "function",
    "builtin_function_or_method",
    "instance",
    "_Feature"
   ],
   "window_display": false
  }
 },
 "nbformat": 4,
 "nbformat_minor": 1
}
